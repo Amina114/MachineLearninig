{
 "cells": [
  {
   "cell_type": "code",
   "execution_count": 1,
   "id": "71799f1e",
   "metadata": {},
   "outputs": [],
   "source": [
    "import pandas as pd\n",
    "from sklearn.model_selection import train_test_split\n",
    "from sklearn.linear_model import LogisticRegression\n",
    "from sklearn.preprocessing import LabelEncoder\n",
    "from sklearn.ensemble import RandomForestClassifier"
   ]
  },
  {
   "cell_type": "code",
   "execution_count": 2,
   "id": "8a680166",
   "metadata": {},
   "outputs": [
    {
     "name": "stderr",
     "output_type": "stream",
     "text": [
      "C:\\Users\\chabc\\AppData\\Local\\Temp\\ipykernel_23832\\1692616215.py:1: DtypeWarning: Columns (5,11) have mixed types. Specify dtype option on import or set low_memory=False.\n",
      "  data = pd.read_csv('projet 2.csv')\n"
     ]
    }
   ],
   "source": [
    "data = pd.read_csv('projet 2.csv')"
   ]
  },
  {
   "cell_type": "code",
   "execution_count": 3,
   "id": "2bd8793b",
   "metadata": {},
   "outputs": [],
   "source": [
    "nouvelle_data = data.loc[:, ['Société', 'État','Code postal']]"
   ]
  },
  {
   "cell_type": "code",
   "execution_count": 4,
   "id": "0d622a70",
   "metadata": {},
   "outputs": [
    {
     "data": {
      "text/plain": [
       "Société           0\n",
       "État           5305\n",
       "Code postal    5324\n",
       "dtype: int64"
      ]
     },
     "execution_count": 4,
     "metadata": {},
     "output_type": "execute_result"
    }
   ],
   "source": [
    "nouvelle_data.isnull().sum()"
   ]
  },
  {
   "cell_type": "code",
   "execution_count": 5,
   "id": "6af4a474",
   "metadata": {},
   "outputs": [],
   "source": [
    "# Obtenez toutes les valeurs uniques de la colonne \"societe\"\n",
    "unique_companies = nouvelle_data['Société'].unique()"
   ]
  },
  {
   "cell_type": "code",
   "execution_count": 6,
   "id": "bb362378",
   "metadata": {},
   "outputs": [],
   "source": [
    "# Pour chaque valeur unique de \"societe\"\n",
    "for company in unique_companies:\n",
    "    # Filtrer les données pour cette société\n",
    "    company_data = nouvelle_data[nouvelle_data['Société'] == company]\n",
    "    \n",
    "    # Trouver les valeurs les plus fréquentes de \"etat\" et \"code_postal\" pour cette société\n",
    "    most_frequent_state = company_data['État'].mode()\n",
    "    most_frequent_zip = company_data['Code postal'].mode()\n",
    "    \n",
    "    # S'assurer que la série n'est pas vide avant d'essayer d'accéder à son premier élément\n",
    "    if not most_frequent_state.empty:\n",
    "        most_frequent_state = most_frequent_state.iloc[0]\n",
    "    else:\n",
    "        most_frequent_state = 'enaaaa'\n",
    "    \n",
    "    if not most_frequent_zip.empty:\n",
    "        most_frequent_zip = most_frequent_zip.iloc[0]\n",
    "    else:\n",
    "        most_frequent_zip = 'enaaa2'\n",
    "    \n",
    "    # Remplir les valeurs manquantes pour cette société avec les valeurs les plus fréquentes\n",
    "    nouvelle_data.loc[data['Société'] == company, 'État'] = nouvelle_data.loc[nouvelle_data['Société'] == company, 'État'].fillna(most_frequent_state)\n",
    "    nouvelle_data.loc[data['Société'] == company, 'Code postal'] = nouvelle_data.loc[nouvelle_data['Société'] == company, 'Code postal'].fillna(most_frequent_zip)"
   ]
  },
  {
   "cell_type": "code",
   "execution_count": 7,
   "id": "c5fd7ea4",
   "metadata": {},
   "outputs": [
    {
     "data": {
      "text/plain": [
       "Société        0\n",
       "État           0\n",
       "Code postal    0\n",
       "dtype: int64"
      ]
     },
     "execution_count": 7,
     "metadata": {},
     "output_type": "execute_result"
    }
   ],
   "source": [
    "nouvelle_data.isnull().sum()"
   ]
  },
  {
   "cell_type": "code",
   "execution_count": 8,
   "id": "510a1de1",
   "metadata": {},
   "outputs": [],
   "source": [
    "nouvelle_dataetat = nouvelle_data.loc[: , [\"État\"]]"
   ]
  },
  {
   "cell_type": "code",
   "execution_count": 9,
   "id": "c0423a24",
   "metadata": {},
   "outputs": [],
   "source": [
    "nouvelle_dataetat.to_csv(\"dataset_etat.csv\", index=False)"
   ]
  },
  {
   "cell_type": "code",
   "execution_count": 10,
   "id": "f71dcc75",
   "metadata": {},
   "outputs": [],
   "source": [
    "nouvelle_data.to_excel(\"dataset_Fetat.xlsx\", index=False)"
   ]
  },
  {
   "cell_type": "code",
   "execution_count": 11,
   "id": "f0a3d8cf",
   "metadata": {},
   "outputs": [],
   "source": [
    "nouvelle_dataceodepostal = nouvelle_data.loc[: , [\"Code postal\"]]"
   ]
  },
  {
   "cell_type": "code",
   "execution_count": 12,
   "id": "d2d3b1c5",
   "metadata": {},
   "outputs": [],
   "source": [
    "nouvelle_dataceodepostal.to_csv(\"dataset_postal.csv\", index=False)"
   ]
  },
  {
   "cell_type": "code",
   "execution_count": 13,
   "id": "13765362",
   "metadata": {},
   "outputs": [],
   "source": [
    "nouvelle_data.to_excel(\"dataset_Fpostal.xlsx\", index=False)"
   ]
  }
 ],
 "metadata": {
  "kernelspec": {
   "display_name": "Python 3 (ipykernel)",
   "language": "python",
   "name": "python3"
  },
  "language_info": {
   "codemirror_mode": {
    "name": "ipython",
    "version": 3
   },
   "file_extension": ".py",
   "mimetype": "text/x-python",
   "name": "python",
   "nbconvert_exporter": "python",
   "pygments_lexer": "ipython3",
   "version": "3.12.0"
  }
 },
 "nbformat": 4,
 "nbformat_minor": 5
}
