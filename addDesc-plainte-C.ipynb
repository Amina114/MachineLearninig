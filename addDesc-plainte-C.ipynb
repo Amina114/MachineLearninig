{
 "cells": [
  {
   "cell_type": "code",
   "execution_count": 1,
   "id": "933938e4",
   "metadata": {},
   "outputs": [],
   "source": [
    "import pandas as pd\n",
    "from sklearn.model_selection import train_test_split\n",
    "from tensorflow.keras.preprocessing.text import Tokenizer\n",
    "from tensorflow.keras.preprocessing.sequence import pad_sequences\n",
    "from tensorflow.keras.models import Sequential\n",
    "from tensorflow.keras.layers import Embedding, LSTM, Dense"
   ]
  },
  {
   "cell_type": "code",
   "execution_count": 2,
   "id": "41b9ee29",
   "metadata": {},
   "outputs": [
    {
     "name": "stderr",
     "output_type": "stream",
     "text": [
      "C:\\Users\\chabc\\AppData\\Local\\Temp\\ipykernel_14736\\1692616215.py:1: DtypeWarning: Columns (5,11) have mixed types. Specify dtype option on import or set low_memory=False.\n",
      "  data = pd.read_csv('projet 2.csv')\n"
     ]
    }
   ],
   "source": [
    "data = pd.read_csv('projet 2.csv')"
   ]
  },
  {
   "cell_type": "code",
   "execution_count": 3,
   "id": "31ebdfc1",
   "metadata": {},
   "outputs": [],
   "source": [
    "nouvelle_data = data.loc[:, ['Produit', 'Desc-plainte-C']]"
   ]
  },
  {
   "cell_type": "code",
   "execution_count": 4,
   "id": "bc563dfd",
   "metadata": {},
   "outputs": [],
   "source": [
    "nouvelle_data_non_null = nouvelle_data.dropna(subset=['Desc-plainte-C'])"
   ]
  },
  {
   "cell_type": "code",
   "execution_count": 5,
   "id": "3614c465",
   "metadata": {},
   "outputs": [],
   "source": [
    "# Prétraitement des données\n",
    "max_words = 10000  # Nombre maximal de mots à prendre en compte\n",
    "max_len = 50  # Longueur maximale des séquences\n",
    "#utilisé pour convertir le texte en séquences d'entiers. \n",
    "tokenizer = Tokenizer(num_words=max_words)\n",
    "tokenizer.fit_on_texts(nouvelle_data_non_null['Desc-plainte-C'])\n",
    "# ikharej kol aprtie wahdha \n",
    "sequences = tokenizer.texts_to_sequences(nouvelle_data_non_null['Desc-plainte-C'])\n",
    "# Les séquences plus courtes sont remplies de zéros à gauche, et les séquences plus longues sont tronquées.\n",
    "X = pad_sequences(sequences, maxlen=max_len)\n",
    "y = pd.get_dummies(nouvelle_data_non_null['Produit'])"
   ]
  },
  {
   "cell_type": "code",
   "execution_count": 6,
   "id": "89cbe595",
   "metadata": {},
   "outputs": [],
   "source": [
    "# Fractionner les données en ensembles d'entraînement et de test\n",
    "X_train, X_test, y_train, y_test = train_test_split(X, y, test_size=0.2, random_state=42)"
   ]
  },
  {
   "cell_type": "code",
   "execution_count": 7,
   "id": "b0e817d8",
   "metadata": {},
   "outputs": [],
   "source": [
    "# Créer le modèle RNN Réseau de Neurones Récurrents\n",
    "model = Sequential()\n",
    "model.add(Embedding(input_dim=max_words, output_dim=64))  # Supprimez input_length\n",
    "model.add(LSTM(64, dropout=0.2, recurrent_dropout=0.2))\n",
    "model.add(Dense(len(y.columns), activation='softmax'))\n"
   ]
  },
  {
   "cell_type": "code",
   "execution_count": 8,
   "id": "962af2b6",
   "metadata": {},
   "outputs": [],
   "source": [
    "# Compiler le modèle\n",
    "model.compile(optimizer='adam', loss='categorical_crossentropy', metrics=['accuracy'])"
   ]
  },
  {
   "cell_type": "code",
   "execution_count": 9,
   "id": "505610cc",
   "metadata": {},
   "outputs": [
    {
     "name": "stdout",
     "output_type": "stream",
     "text": [
      "Epoch 1/10\n",
      "\u001b[1m2868/2868\u001b[0m \u001b[32m━━━━━━━━━━━━━━━━━━━━\u001b[0m\u001b[37m\u001b[0m \u001b[1m73s\u001b[0m 25ms/step - accuracy: 0.4787 - loss: 1.5113 - val_accuracy: 0.6970 - val_loss: 0.9505\n",
      "Epoch 2/10\n",
      "\u001b[1m2868/2868\u001b[0m \u001b[32m━━━━━━━━━━━━━━━━━━━━\u001b[0m\u001b[37m\u001b[0m \u001b[1m87s\u001b[0m 30ms/step - accuracy: 0.7156 - loss: 0.8970 - val_accuracy: 0.7377 - val_loss: 0.8294\n",
      "Epoch 3/10\n",
      "\u001b[1m2868/2868\u001b[0m \u001b[32m━━━━━━━━━━━━━━━━━━━━\u001b[0m\u001b[37m\u001b[0m \u001b[1m81s\u001b[0m 28ms/step - accuracy: 0.7621 - loss: 0.7494 - val_accuracy: 0.7443 - val_loss: 0.8116\n",
      "Epoch 4/10\n",
      "\u001b[1m2868/2868\u001b[0m \u001b[32m━━━━━━━━━━━━━━━━━━━━\u001b[0m\u001b[37m\u001b[0m \u001b[1m84s\u001b[0m 29ms/step - accuracy: 0.7887 - loss: 0.6641 - val_accuracy: 0.7432 - val_loss: 0.8119\n",
      "Epoch 5/10\n",
      "\u001b[1m2868/2868\u001b[0m \u001b[32m━━━━━━━━━━━━━━━━━━━━\u001b[0m\u001b[37m\u001b[0m \u001b[1m86s\u001b[0m 30ms/step - accuracy: 0.8100 - loss: 0.5976 - val_accuracy: 0.7417 - val_loss: 0.8289\n",
      "Epoch 6/10\n",
      "\u001b[1m2868/2868\u001b[0m \u001b[32m━━━━━━━━━━━━━━━━━━━━\u001b[0m\u001b[37m\u001b[0m \u001b[1m83s\u001b[0m 29ms/step - accuracy: 0.8229 - loss: 0.5527 - val_accuracy: 0.7380 - val_loss: 0.8519\n",
      "Epoch 7/10\n",
      "\u001b[1m2868/2868\u001b[0m \u001b[32m━━━━━━━━━━━━━━━━━━━━\u001b[0m\u001b[37m\u001b[0m \u001b[1m83s\u001b[0m 29ms/step - accuracy: 0.8360 - loss: 0.5221 - val_accuracy: 0.7338 - val_loss: 0.8868\n",
      "Epoch 8/10\n",
      "\u001b[1m2868/2868\u001b[0m \u001b[32m━━━━━━━━━━━━━━━━━━━━\u001b[0m\u001b[37m\u001b[0m \u001b[1m93s\u001b[0m 32ms/step - accuracy: 0.8440 - loss: 0.4886 - val_accuracy: 0.7308 - val_loss: 0.9094\n",
      "Epoch 9/10\n",
      "\u001b[1m2868/2868\u001b[0m \u001b[32m━━━━━━━━━━━━━━━━━━━━\u001b[0m\u001b[37m\u001b[0m \u001b[1m99s\u001b[0m 35ms/step - accuracy: 0.8522 - loss: 0.4619 - val_accuracy: 0.7313 - val_loss: 0.9398\n",
      "Epoch 10/10\n",
      "\u001b[1m2868/2868\u001b[0m \u001b[32m━━━━━━━━━━━━━━━━━━━━\u001b[0m\u001b[37m\u001b[0m \u001b[1m91s\u001b[0m 32ms/step - accuracy: 0.8625 - loss: 0.4256 - val_accuracy: 0.7269 - val_loss: 0.9714\n"
     ]
    },
    {
     "data": {
      "text/plain": [
       "<keras.src.callbacks.history.History at 0x1b752fbe870>"
      ]
     },
     "execution_count": 9,
     "metadata": {},
     "output_type": "execute_result"
    }
   ],
   "source": [
    "# Entraîner le modèle\n",
    "model.fit(X_train, y_train, epochs=10, batch_size=32, validation_data=(X_test, y_test))"
   ]
  },
  {
   "cell_type": "code",
   "execution_count": 10,
   "id": "d543f847",
   "metadata": {},
   "outputs": [
    {
     "name": "stdout",
     "output_type": "stream",
     "text": [
      "\u001b[1m717/717\u001b[0m \u001b[32m━━━━━━━━━━━━━━━━━━━━\u001b[0m\u001b[37m\u001b[0m \u001b[1m9s\u001b[0m 12ms/step - accuracy: 0.7236 - loss: 0.9873\n",
      "Accuracy du modèle: 0.7269081473350525\n"
     ]
    }
   ],
   "source": [
    "# Évaluer la performance du modèle\n",
    "loss, accuracy = model.evaluate(X_test, y_test)\n",
    "print('Accuracy du modèle:', accuracy)"
   ]
  },
  {
   "cell_type": "code",
   "execution_count": 11,
   "id": "292d3428",
   "metadata": {},
   "outputs": [],
   "source": [
    "# Identifier les lignes avec des valeurs manquantes dans 'Desc-plainte-C'\n",
    "missing_data = nouvelle_data[nouvelle_data['Desc-plainte-C'].isna()]"
   ]
  },
  {
   "cell_type": "code",
   "execution_count": 12,
   "id": "0af1780c",
   "metadata": {},
   "outputs": [],
   "source": [
    "# Utiliser la colonne 'Produit' pour prédire les valeurs manquantes\n",
    "predicted_missing = missing_data['Produit']"
   ]
  },
  {
   "cell_type": "code",
   "execution_count": 13,
   "id": "5b69aa2d",
   "metadata": {},
   "outputs": [],
   "source": [
    "# Remplacer les valeurs manquantes dans 'Desc-plainte-C' avec les valeurs prédites\n",
    "nouvelle_data.loc[missing_data.index, 'Desc-plainte-C'] = predicted_missing"
   ]
  },
  {
   "cell_type": "code",
   "execution_count": 14,
   "id": "50dd0b0b",
   "metadata": {},
   "outputs": [
    {
     "data": {
      "text/html": [
       "<div>\n",
       "<style scoped>\n",
       "    .dataframe tbody tr th:only-of-type {\n",
       "        vertical-align: middle;\n",
       "    }\n",
       "\n",
       "    .dataframe tbody tr th {\n",
       "        vertical-align: top;\n",
       "    }\n",
       "\n",
       "    .dataframe thead th {\n",
       "        text-align: right;\n",
       "    }\n",
       "</style>\n",
       "<table border=\"1\" class=\"dataframe\">\n",
       "  <thead>\n",
       "    <tr style=\"text-align: right;\">\n",
       "      <th></th>\n",
       "      <th>Produit</th>\n",
       "      <th>Desc-plainte-C</th>\n",
       "    </tr>\n",
       "  </thead>\n",
       "  <tbody>\n",
       "    <tr>\n",
       "      <th>0</th>\n",
       "      <td>Consumer Loan</td>\n",
       "      <td>Consumer Loan</td>\n",
       "    </tr>\n",
       "    <tr>\n",
       "      <th>1</th>\n",
       "      <td>Bank account or service</td>\n",
       "      <td>Bank account or service</td>\n",
       "    </tr>\n",
       "    <tr>\n",
       "      <th>2</th>\n",
       "      <td>Bank account or service</td>\n",
       "      <td>Bank account or service</td>\n",
       "    </tr>\n",
       "    <tr>\n",
       "      <th>3</th>\n",
       "      <td>Bank account or service</td>\n",
       "      <td>Bank account or service</td>\n",
       "    </tr>\n",
       "    <tr>\n",
       "      <th>4</th>\n",
       "      <td>Mortgage</td>\n",
       "      <td>Mortgage</td>\n",
       "    </tr>\n",
       "    <tr>\n",
       "      <th>...</th>\n",
       "      <td>...</td>\n",
       "      <td>...</td>\n",
       "    </tr>\n",
       "    <tr>\n",
       "      <th>8958</th>\n",
       "      <td>Credit card</td>\n",
       "      <td>Credit card</td>\n",
       "    </tr>\n",
       "    <tr>\n",
       "      <th>8959</th>\n",
       "      <td>Bank account or service</td>\n",
       "      <td>Bank account or service</td>\n",
       "    </tr>\n",
       "    <tr>\n",
       "      <th>8960</th>\n",
       "      <td>Mortgage</td>\n",
       "      <td>Mortgage</td>\n",
       "    </tr>\n",
       "    <tr>\n",
       "      <th>8961</th>\n",
       "      <td>Mortgage</td>\n",
       "      <td>Mortgage</td>\n",
       "    </tr>\n",
       "    <tr>\n",
       "      <th>8962</th>\n",
       "      <td>Bank account or service</td>\n",
       "      <td>Bank account or service</td>\n",
       "    </tr>\n",
       "  </tbody>\n",
       "</table>\n",
       "<p>8963 rows × 2 columns</p>\n",
       "</div>"
      ],
      "text/plain": [
       "                      Produit           Desc-plainte-C\n",
       "0               Consumer Loan            Consumer Loan\n",
       "1     Bank account or service  Bank account or service\n",
       "2     Bank account or service  Bank account or service\n",
       "3     Bank account or service  Bank account or service\n",
       "4                    Mortgage                 Mortgage\n",
       "...                       ...                      ...\n",
       "8958              Credit card              Credit card\n",
       "8959  Bank account or service  Bank account or service\n",
       "8960                 Mortgage                 Mortgage\n",
       "8961                 Mortgage                 Mortgage\n",
       "8962  Bank account or service  Bank account or service\n",
       "\n",
       "[8963 rows x 2 columns]"
      ]
     },
     "execution_count": 14,
     "metadata": {},
     "output_type": "execute_result"
    }
   ],
   "source": [
    "nouvelle_data.head(8963)"
   ]
  },
  {
   "cell_type": "code",
   "execution_count": 15,
   "id": "12ccd6a3",
   "metadata": {},
   "outputs": [],
   "source": [
    "nouvelle_data = nouvelle_data.loc[: , [\"Desc-plainte-C\"]]"
   ]
  },
  {
   "cell_type": "code",
   "execution_count": 16,
   "id": "a2eb489e",
   "metadata": {},
   "outputs": [],
   "source": [
    "nouvelle_data.to_csv(\"dataset_rempli_specific_Desc-plainte-C.csv\", index=False)"
   ]
  },
  {
   "cell_type": "code",
   "execution_count": 17,
   "id": "0ab0e37b",
   "metadata": {},
   "outputs": [],
   "source": [
    "nouvelle_data.to_excel(\"dataset_rempli_specific_Desc-plainte-C.xlsx\", index=False)"
   ]
  }
 ],
 "metadata": {
  "kernelspec": {
   "display_name": "Python 3 (ipykernel)",
   "language": "python",
   "name": "python3"
  },
  "language_info": {
   "codemirror_mode": {
    "name": "ipython",
    "version": 3
   },
   "file_extension": ".py",
   "mimetype": "text/x-python",
   "name": "python",
   "nbconvert_exporter": "python",
   "pygments_lexer": "ipython3",
   "version": "3.12.0"
  }
 },
 "nbformat": 4,
 "nbformat_minor": 5
}
